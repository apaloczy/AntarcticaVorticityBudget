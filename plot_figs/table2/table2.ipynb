{
 "cells": [
  {
   "cell_type": "code",
   "execution_count": 1,
   "metadata": {},
   "outputs": [],
   "source": [
    "# Description: Calculates estimates of volume and heat transports for some segments.\n",
    "#\n",
    "# Author:      André Palóczy\n",
    "# E-mail:      paloczy@gmail.com\n",
    "# Date:        April/2020"
   ]
  },
  {
   "cell_type": "code",
   "execution_count": 2,
   "metadata": {},
   "outputs": [],
   "source": [
    "import numpy as np\n",
    "from xarray import open_dataset"
   ]
  },
  {
   "cell_type": "code",
   "execution_count": 3,
   "metadata": {},
   "outputs": [
    {
     "name": "stdout",
     "output_type": "stream",
     "text": [
      "Amundsen-Bellingshausen TSB volume transport: -8.5 Sv\n",
      "W-EA TSB volume transport: 2.1 Sv\n",
      "E-EA TSB volume transport: -11.8 Sv\n",
      "Ross TSB volume transport: -1.0 Sv\n",
      "\n",
      "Amundsen-Bellingshausen TSB heat transport: -17.4 TW\n",
      "W-EA TSB heat transport: 4.2 TW\n",
      "E-EA TSB heat transport: -24.3 TW\n",
      "Ross TSB heat transport: -2.0 TW\n"
     ]
    }
   ],
   "source": [
    "head_data = \"../../data_reproduce_figs/\"\n",
    "fnames = [head_data+'circulation_terms-Amundsen-Bellingshausen.nc',\n",
    "          head_data+'circulation_terms-W-EA.nc',\n",
    "          head_data+'circulation_terms-E-EA.nc',\n",
    "          head_data+'circulation_terms-Ross.nc']\n",
    "\n",
    "L = {\"Amundsen-Bellingshausen\":3803e3, \"W-EA\":5796e3, \"E-EA\":7786e3, \"Ross\":3768e3}\n",
    "r2TSB = {\"Amundsen-Bellingshausen\":0.54**2, \"W-EA\":0.36**2, \"E-EA\":0.26**2, \"Ross\":0.19**2} # From Table 1.\n",
    "\n",
    "m3stoSv = 1e-6\n",
    "WtoTW = 1e-12\n",
    "lat = -65\n",
    "omega = 7.292115e-5  # [1/s]\n",
    "beta = 2*omega*np.cos(np.radians(lat))/6400e3 # [1/m/s]\n",
    "rho = 1027 # [kg/m3]\n",
    "Cp = 4000  # [J/kg/k]\n",
    "dT = 0.5   # [K or degrees C]\n",
    "\n",
    "for fname in fnames:\n",
    "  ds = open_dataset(fname)\n",
    "  segment = fname.split('terms')[-1].split('.')[0][1:]\n",
    "  TSBtransp = r2TSB[segment]*ds['Icurlvdiff'].mean()*L[segment]*m3stoSv/beta\n",
    "  print(segment,\"TSB volume transport: %.1f Sv\"%TSBtransp)\n",
    "\n",
    "print(\"\")\n",
    "for fname in fnames:\n",
    "  ds = open_dataset(fname)\n",
    "  segment = fname.split('terms')[-1].split('.')[0][1:]\n",
    "  TSBHtransp = r2TSB[segment]*ds['Icurlvdiff'].mean()*L[segment]*rho*Cp*dT*WtoTW/beta\n",
    "  print(segment,\"TSB heat transport: %.1f TW\"%TSBHtransp)"
   ]
  }
 ],
 "metadata": {
  "kernelspec": {
   "display_name": "Python 3",
   "language": "python",
   "name": "python3"
  },
  "language_info": {
   "codemirror_mode": {
    "name": "ipython",
    "version": 3
   },
   "file_extension": ".py",
   "mimetype": "text/x-python",
   "name": "python",
   "nbconvert_exporter": "python",
   "pygments_lexer": "ipython3",
   "version": "3.7.7"
  }
 },
 "nbformat": 4,
 "nbformat_minor": 4
}
