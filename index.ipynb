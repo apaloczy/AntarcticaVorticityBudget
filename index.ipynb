{
 "cells": [
  {
   "cell_type": "markdown",
   "metadata": {},
   "source": [
    "# Supplementary materials for \\\"The large-scale vorticity balance of the Antarctic continental margin in a fine-resolution global simulation\\\"\n",
    "\n",
    "A. Palóczy*, Julie L. McClean, S. T. Gille and He Wang\n",
    "\n",
    "Scripps Institution of Oceanography, University of California San Diego | *<apaloczy@ucsd.edu> |"
   ]
  },
  {
   "cell_type": "code",
   "execution_count": null,
   "metadata": {},
   "outputs": [],
   "source": []
  }
 ],
 "metadata": {
  "kernelspec": {
   "display_name": "Python 3",
   "language": "python",
   "name": "python3"
  },
  "language_info": {
   "codemirror_mode": {
    "name": "ipython",
    "version": 3
   },
   "file_extension": ".py",
   "mimetype": "text/x-python",
   "name": "python",
   "nbconvert_exporter": "python",
   "pygments_lexer": "ipython3",
   "version": "3.7.7"
  }
 },
 "nbformat": 4,
 "nbformat_minor": 4
}
